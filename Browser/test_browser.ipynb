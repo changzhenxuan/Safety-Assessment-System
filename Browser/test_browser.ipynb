{
 "cells": [
  {
   "cell_type": "code",
   "execution_count": 2,
   "metadata": {},
   "outputs": [],
   "source": [
    "import socket\n",
    "import getpass"
   ]
  },
  {
   "cell_type": "code",
   "execution_count": 3,
   "metadata": {},
   "outputs": [],
   "source": [
    "username = getpass.getuser()\n",
    "CHROME_PATH = f\"C:/Users/{username}/AppData/Local/Google/Chrome/User Data/Default\"\n",
    "EDGE_PATH = f\"C:/Users/{username}/AppData/Local/Microsoft/Edge/User Data/Default\"\n",
    "EDGE_KILL = \"taskkill /f /t /im msedge.exe\"\n",
    "CHROME_KILL = \"taskkill /f /t /im chrome.exe\""
   ]
  },
  {
   "cell_type": "code",
   "execution_count": 96,
   "metadata": {},
   "outputs": [],
   "source": [
    "import virustotal_python"
   ]
  },
  {
   "cell_type": "code",
   "execution_count": 99,
   "metadata": {},
   "outputs": [
    {
     "data": {
      "text/plain": [
       "['Virustotal',\n",
       " 'VirustotalError',\n",
       " 'VirustotalResponse',\n",
       " '__all__',\n",
       " '__author__',\n",
       " '__builtins__',\n",
       " '__cached__',\n",
       " '__doc__',\n",
       " '__file__',\n",
       " '__loader__',\n",
       " '__name__',\n",
       " '__package__',\n",
       " '__path__',\n",
       " '__spec__',\n",
       " '__version__',\n",
       " 'name',\n",
       " 'virustotal']"
      ]
     },
     "execution_count": 99,
     "metadata": {},
     "output_type": "execute_result"
    }
   ],
   "source": [
    "dir(virustotal_python)"
   ]
  },
  {
   "cell_type": "code",
   "execution_count": 101,
   "metadata": {},
   "outputs": [],
   "source": [
    "import virustotal_python\n",
    "from pprint import pprint\n",
    "from base64 import urlsafe_b64encode\n",
    "import requests\n",
    "\n",
    "URL = 'https://www.virustotal.com/vtapi/v2/url/scan'\n",
    "url = \"ihaveaproblem.info\"\n",
    "apikey = 'e0ef054049c2248cc22f424c066a6b1f58939112568bfd3278baeac93f87f174'\n",
    "data = {'apikey':apikey,'url':url}\n",
    "rp = requests.post(URL,data=data)"
   ]
  },
  {
   "cell_type": "code",
   "execution_count": 108,
   "metadata": {},
   "outputs": [],
   "source": [
    "import base64,json\n",
    "headers = {\n",
    "    \"Accept\": \"application/json\",\n",
    "    \"x-apikey\": \"0f901f14014fb58f6ea58e0ea143366e519c015182329999c89eda8066eb855c\"\n",
    "}\n",
    "\n",
    "site = '\"ihaveaproblem.info\"'\n",
    "url = \"https://www.virustotal.com/api/v3/urls/\"\n",
    "url_id = base64.urlsafe_b64encode(site.encode()).decode().strip(\"=\")\n",
    "url = url+url_id\n",
    "response = requests.get(url, headers=headers)\n",
    "c = response.text\n",
    "x = json.loads(response.content)"
   ]
  },
  {
   "cell_type": "code",
   "execution_count": 109,
   "metadata": {},
   "outputs": [
    {
     "data": {
      "text/plain": [
       "{'error': {'message': 'URL \"ImloYXZlYXByb2JsZW0uaW5mbyI\" not found',\n",
       "  'code': 'NotFoundError'}}"
      ]
     },
     "execution_count": 109,
     "metadata": {},
     "output_type": "execute_result"
    }
   ],
   "source": [
    "x"
   ]
  }
 ],
 "metadata": {
  "kernelspec": {
   "display_name": "Python 3.8.6 64-bit ('3.8.6')",
   "language": "python",
   "name": "python3"
  },
  "language_info": {
   "codemirror_mode": {
    "name": "ipython",
    "version": 3
   },
   "file_extension": ".py",
   "mimetype": "text/x-python",
   "name": "python",
   "nbconvert_exporter": "python",
   "pygments_lexer": "ipython3",
   "version": "3.8.6"
  },
  "orig_nbformat": 4,
  "vscode": {
   "interpreter": {
    "hash": "2515840804fea508cf99a57ebd6b5ff2fc304fb242883928a3b01607d5ab63db"
   }
  }
 },
 "nbformat": 4,
 "nbformat_minor": 2
}
