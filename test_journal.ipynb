{
 "cells": [
  {
   "cell_type": "code",
   "execution_count": 2,
   "metadata": {},
   "outputs": [],
   "source": [
    "import wmi\n",
    "import winreg"
   ]
  },
  {
   "cell_type": "code",
   "execution_count": 3,
   "metadata": {},
   "outputs": [],
   "source": [
    "import Evtx.Evtx as evtx\n",
    "import Evtx.Views as e_views\n",
    "from xml.etree import ElementTree"
   ]
  },
  {
   "cell_type": "code",
   "execution_count": 4,
   "metadata": {},
   "outputs": [],
   "source": [
    "import socket"
   ]
  },
  {
   "cell_type": "code",
   "execution_count": 7,
   "metadata": {},
   "outputs": [
    {
     "ename": "AttributeError",
     "evalue": "module 'nmap' has no attribute 'PortScanner'",
     "output_type": "error",
     "traceback": [
      "\u001b[1;31m---------------------------------------------------------------------------\u001b[0m",
      "\u001b[1;31mAttributeError\u001b[0m                            Traceback (most recent call last)",
      "\u001b[1;32md:\\Users\\czx\\Desktop\\网安实践\\code\\test_journal.ipynb Cell 4\u001b[0m in \u001b[0;36m<cell line: 1>\u001b[1;34m()\u001b[0m\n\u001b[1;32m----> <a href='vscode-notebook-cell:/d%3A/Users/czx/Desktop/%E7%BD%91%E5%AE%89%E5%AE%9E%E8%B7%B5/code/test_journal.ipynb#W3sZmlsZQ%3D%3D?line=0'>1</a>\u001b[0m scanner \u001b[39m=\u001b[39m nmap\u001b[39m.\u001b[39;49mPortScanner()\n",
      "\u001b[1;31mAttributeError\u001b[0m: module 'nmap' has no attribute 'PortScanner'"
     ]
    }
   ],
   "source": [
    "scanner = nmap.PortScanner()\n",
    "ip_addr = \"127.0.0.1\"\n",
    "args = {'1':['-v -sS','tcp'],'2':['-v -sU','udp'],'3':['-v -sS -sV -sC -A -O','tcp']}"
   ]
  },
  {
   "cell_type": "code",
   "execution_count": null,
   "metadata": {},
   "outputs": [],
   "source": []
  }
 ],
 "metadata": {
  "kernelspec": {
   "display_name": "Python 3.8.6 64-bit ('3.8.6')",
   "language": "python",
   "name": "python3"
  },
  "language_info": {
   "codemirror_mode": {
    "name": "ipython",
    "version": 3
   },
   "file_extension": ".py",
   "mimetype": "text/x-python",
   "name": "python",
   "nbconvert_exporter": "python",
   "pygments_lexer": "ipython3",
   "version": "3.8.6"
  },
  "orig_nbformat": 4,
  "vscode": {
   "interpreter": {
    "hash": "2515840804fea508cf99a57ebd6b5ff2fc304fb242883928a3b01607d5ab63db"
   }
  }
 },
 "nbformat": 4,
 "nbformat_minor": 2
}
